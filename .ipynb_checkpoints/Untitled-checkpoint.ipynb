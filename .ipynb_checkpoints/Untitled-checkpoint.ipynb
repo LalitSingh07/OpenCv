{
 "cells": [
  {
   "cell_type": "code",
   "execution_count": 7,
   "id": "b2f3e99e",
   "metadata": {},
   "outputs": [
    {
     "ename": "ImportError",
     "evalue": "Unable to find zbar shared library",
     "output_type": "error",
     "traceback": [
      "\u001b[0;31m---------------------------------------------------------------------------\u001b[0m",
      "\u001b[0;31mImportError\u001b[0m                               Traceback (most recent call last)",
      "Cell \u001b[0;32mIn[7], line 3\u001b[0m\n\u001b[1;32m      1\u001b[0m \u001b[38;5;66;03m# Importing library\u001b[39;00m\n\u001b[1;32m      2\u001b[0m \u001b[38;5;28;01mimport\u001b[39;00m \u001b[38;5;21;01mcv2\u001b[39;00m\n\u001b[0;32m----> 3\u001b[0m \u001b[38;5;28;01mfrom\u001b[39;00m \u001b[38;5;21;01mpyzbar\u001b[39;00m\u001b[38;5;21;01m.\u001b[39;00m\u001b[38;5;21;01mpyzbar\u001b[39;00m \u001b[38;5;28;01mimport\u001b[39;00m decode\n\u001b[1;32m      5\u001b[0m \u001b[38;5;66;03m# Make one method to decode the barcode \u001b[39;00m\n\u001b[1;32m      6\u001b[0m \u001b[38;5;28;01mdef\u001b[39;00m \u001b[38;5;21mBarcodeReader\u001b[39m(image):\n\u001b[1;32m      7\u001b[0m \t\n\u001b[1;32m      8\u001b[0m \t\u001b[38;5;66;03m# read the image in numpy array using cv2\u001b[39;00m\n",
      "File \u001b[0;32m~/anaconda3/lib/python3.11/site-packages/pyzbar/pyzbar.py:7\u001b[0m\n\u001b[1;32m      5\u001b[0m \u001b[38;5;28;01mfrom\u001b[39;00m \u001b[38;5;21;01m.\u001b[39;00m\u001b[38;5;21;01mlocations\u001b[39;00m \u001b[38;5;28;01mimport\u001b[39;00m bounding_box, convex_hull, Point, Rect\n\u001b[1;32m      6\u001b[0m \u001b[38;5;28;01mfrom\u001b[39;00m \u001b[38;5;21;01m.\u001b[39;00m\u001b[38;5;21;01mpyzbar_error\u001b[39;00m \u001b[38;5;28;01mimport\u001b[39;00m PyZbarError\n\u001b[0;32m----> 7\u001b[0m \u001b[38;5;28;01mfrom\u001b[39;00m \u001b[38;5;21;01m.\u001b[39;00m\u001b[38;5;21;01mwrapper\u001b[39;00m \u001b[38;5;28;01mimport\u001b[39;00m (\n\u001b[1;32m      8\u001b[0m     zbar_image_scanner_set_config,\n\u001b[1;32m      9\u001b[0m     zbar_image_scanner_create, zbar_image_scanner_destroy,\n\u001b[1;32m     10\u001b[0m     zbar_image_create, zbar_image_destroy, zbar_image_set_format,\n\u001b[1;32m     11\u001b[0m     zbar_image_set_size, zbar_image_set_data, zbar_scan_image,\n\u001b[1;32m     12\u001b[0m     zbar_image_first_symbol, zbar_symbol_get_data_length,\n\u001b[1;32m     13\u001b[0m     zbar_symbol_get_data, zbar_symbol_get_orientation,\n\u001b[1;32m     14\u001b[0m     zbar_symbol_get_loc_size, zbar_symbol_get_loc_x, zbar_symbol_get_loc_y,\n\u001b[1;32m     15\u001b[0m     zbar_symbol_get_quality, zbar_symbol_next, ZBarConfig, ZBarOrientation,\n\u001b[1;32m     16\u001b[0m     ZBarSymbol, EXTERNAL_DEPENDENCIES,\n\u001b[1;32m     17\u001b[0m )\n\u001b[1;32m     19\u001b[0m __all__ \u001b[38;5;241m=\u001b[39m [\n\u001b[1;32m     20\u001b[0m     \u001b[38;5;124m'\u001b[39m\u001b[38;5;124mdecode\u001b[39m\u001b[38;5;124m'\u001b[39m, \u001b[38;5;124m'\u001b[39m\u001b[38;5;124mPoint\u001b[39m\u001b[38;5;124m'\u001b[39m, \u001b[38;5;124m'\u001b[39m\u001b[38;5;124mRect\u001b[39m\u001b[38;5;124m'\u001b[39m, \u001b[38;5;124m'\u001b[39m\u001b[38;5;124mDecoded\u001b[39m\u001b[38;5;124m'\u001b[39m, \u001b[38;5;124m'\u001b[39m\u001b[38;5;124mZBarSymbol\u001b[39m\u001b[38;5;124m'\u001b[39m, \u001b[38;5;124m'\u001b[39m\u001b[38;5;124mEXTERNAL_DEPENDENCIES\u001b[39m\u001b[38;5;124m'\u001b[39m, \u001b[38;5;124m'\u001b[39m\u001b[38;5;124mORIENTATION_AVAILABLE\u001b[39m\u001b[38;5;124m'\u001b[39m\n\u001b[1;32m     21\u001b[0m ]\n\u001b[1;32m     24\u001b[0m ORIENTATION_AVAILABLE \u001b[38;5;241m=\u001b[39m zbar_symbol_get_orientation \u001b[38;5;129;01mis\u001b[39;00m \u001b[38;5;129;01mnot\u001b[39;00m \u001b[38;5;28;01mNone\u001b[39;00m\n",
      "File \u001b[0;32m~/anaconda3/lib/python3.11/site-packages/pyzbar/wrapper.py:151\u001b[0m\n\u001b[1;32m    147\u001b[0m     prototype \u001b[38;5;241m=\u001b[39m CFUNCTYPE(restype, \u001b[38;5;241m*\u001b[39margs)\n\u001b[1;32m    148\u001b[0m     \u001b[38;5;28;01mreturn\u001b[39;00m prototype((fname, load_libzbar()))\n\u001b[0;32m--> 151\u001b[0m zbar_version \u001b[38;5;241m=\u001b[39m zbar_function(\n\u001b[1;32m    152\u001b[0m     \u001b[38;5;124m'\u001b[39m\u001b[38;5;124mzbar_version\u001b[39m\u001b[38;5;124m'\u001b[39m,\n\u001b[1;32m    153\u001b[0m     c_int,\n\u001b[1;32m    154\u001b[0m     c_uint_p,    \u001b[38;5;66;03m# major,\u001b[39;00m\n\u001b[1;32m    155\u001b[0m     c_uint_p,    \u001b[38;5;66;03m# minor\u001b[39;00m\n\u001b[1;32m    156\u001b[0m )\n\u001b[1;32m    158\u001b[0m zbar_set_verbosity \u001b[38;5;241m=\u001b[39m zbar_function(\n\u001b[1;32m    159\u001b[0m     \u001b[38;5;124m'\u001b[39m\u001b[38;5;124mzbar_set_verbosity\u001b[39m\u001b[38;5;124m'\u001b[39m,\n\u001b[1;32m    160\u001b[0m     \u001b[38;5;28;01mNone\u001b[39;00m,\n\u001b[1;32m    161\u001b[0m     c_int\n\u001b[1;32m    162\u001b[0m )\n\u001b[1;32m    164\u001b[0m zbar_image_scanner_create \u001b[38;5;241m=\u001b[39m zbar_function(\n\u001b[1;32m    165\u001b[0m     \u001b[38;5;124m'\u001b[39m\u001b[38;5;124mzbar_image_scanner_create\u001b[39m\u001b[38;5;124m'\u001b[39m,\n\u001b[1;32m    166\u001b[0m     POINTER(zbar_image_scanner)\n\u001b[1;32m    167\u001b[0m )\n",
      "File \u001b[0;32m~/anaconda3/lib/python3.11/site-packages/pyzbar/wrapper.py:148\u001b[0m, in \u001b[0;36mzbar_function\u001b[0;34m(fname, restype, *args)\u001b[0m\n\u001b[1;32m    136\u001b[0m \u001b[38;5;250m\u001b[39m\u001b[38;5;124;03m\"\"\"Returns a foreign function exported by `zbar`.\u001b[39;00m\n\u001b[1;32m    137\u001b[0m \n\u001b[1;32m    138\u001b[0m \u001b[38;5;124;03mArgs:\u001b[39;00m\n\u001b[0;32m   (...)\u001b[0m\n\u001b[1;32m    145\u001b[0m \u001b[38;5;124;03m    cddl.CFunctionType: A wrapper around the function.\u001b[39;00m\n\u001b[1;32m    146\u001b[0m \u001b[38;5;124;03m\"\"\"\u001b[39;00m\n\u001b[1;32m    147\u001b[0m prototype \u001b[38;5;241m=\u001b[39m CFUNCTYPE(restype, \u001b[38;5;241m*\u001b[39margs)\n\u001b[0;32m--> 148\u001b[0m \u001b[38;5;28;01mreturn\u001b[39;00m prototype((fname, load_libzbar()))\n",
      "File \u001b[0;32m~/anaconda3/lib/python3.11/site-packages/pyzbar/wrapper.py:127\u001b[0m, in \u001b[0;36mload_libzbar\u001b[0;34m()\u001b[0m\n\u001b[1;32m    125\u001b[0m \u001b[38;5;28;01mglobal\u001b[39;00m EXTERNAL_DEPENDENCIES\n\u001b[1;32m    126\u001b[0m \u001b[38;5;28;01mif\u001b[39;00m \u001b[38;5;129;01mnot\u001b[39;00m LIBZBAR:\n\u001b[0;32m--> 127\u001b[0m     libzbar, dependencies \u001b[38;5;241m=\u001b[39m zbar_library\u001b[38;5;241m.\u001b[39mload()\n\u001b[1;32m    128\u001b[0m     LIBZBAR \u001b[38;5;241m=\u001b[39m libzbar\n\u001b[1;32m    129\u001b[0m     EXTERNAL_DEPENDENCIES \u001b[38;5;241m=\u001b[39m [LIBZBAR] \u001b[38;5;241m+\u001b[39m dependencies\n",
      "File \u001b[0;32m~/anaconda3/lib/python3.11/site-packages/pyzbar/zbar_library.py:65\u001b[0m, in \u001b[0;36mload\u001b[0;34m()\u001b[0m\n\u001b[1;32m     63\u001b[0m path \u001b[38;5;241m=\u001b[39m find_library(\u001b[38;5;124m'\u001b[39m\u001b[38;5;124mzbar\u001b[39m\u001b[38;5;124m'\u001b[39m)\n\u001b[1;32m     64\u001b[0m \u001b[38;5;28;01mif\u001b[39;00m \u001b[38;5;129;01mnot\u001b[39;00m path:\n\u001b[0;32m---> 65\u001b[0m     \u001b[38;5;28;01mraise\u001b[39;00m \u001b[38;5;167;01mImportError\u001b[39;00m(\u001b[38;5;124m'\u001b[39m\u001b[38;5;124mUnable to find zbar shared library\u001b[39m\u001b[38;5;124m'\u001b[39m)\n\u001b[1;32m     66\u001b[0m libzbar \u001b[38;5;241m=\u001b[39m cdll\u001b[38;5;241m.\u001b[39mLoadLibrary(path)\n\u001b[1;32m     67\u001b[0m dependencies \u001b[38;5;241m=\u001b[39m []\n",
      "\u001b[0;31mImportError\u001b[0m: Unable to find zbar shared library"
     ]
    }
   ],
   "source": [
    "# Importing library\n",
    "import cv2\n",
    "from pyzbar.pyzbar import decode\n",
    "\n",
    "# Make one method to decode the barcode \n",
    "def BarcodeReader(image):\n",
    "\t\n",
    "\t# read the image in numpy array using cv2\n",
    "\timg = cv2.imread(image)\n",
    "\t\n",
    "\t# Decode the barcode image\n",
    "\tdetectedBarcodes = decode(img)\n",
    "\t\n",
    "\t# If not detected then print the message\n",
    "\tif not detectedBarcodes:\n",
    "\t\tprint(\"Barcode Not Detected or your barcode is blank/corrupted!\")\n",
    "\telse:\n",
    "\t\n",
    "\t\t# Traverse through all the detected barcodes in image\n",
    "\t\tfor barcode in detectedBarcodes: \n",
    "\t\t\n",
    "\t\t\t# Locate the barcode position in image\n",
    "\t\t\t(x, y, w, h) = barcode.rect\n",
    "\t\t\t\n",
    "\t\t\t# Put the rectangle in image using \n",
    "\t\t\t# cv2 to highlight the barcode\n",
    "\t\t\tcv2.rectangle(img, (x-10, y-10),\n",
    "\t\t\t\t\t\t(x + w+10, y + h+10), \n",
    "\t\t\t\t\t\t(255, 0, 0), 2)\n",
    "\t\t\t\n",
    "\t\t\tif barcode.data!=\"\":\n",
    "\t\t\t\n",
    "\t\t\t# Print the barcode data\n",
    "\t\t\t\tprint(barcode.data)\n",
    "\t\t\t\tprint(barcode.type)\n",
    "\t\t\t\t\n",
    "\t#Display the image\n",
    "\tcv2.imshow(\"Image\", img)\n",
    "\tcv2.waitKey(0)\n",
    "\tcv2.destroyAllWindows()\n",
    "\n",
    "if __name__ == \"__main__\":\n",
    "# Take the image from user\n",
    "\timage=\"Img.jpg\"\n",
    "\tBarcodeReader(image)\n"
   ]
  },
  {
   "cell_type": "code",
   "execution_count": 6,
   "id": "0f553f67",
   "metadata": {},
   "outputs": [
    {
     "name": "stdout",
     "output_type": "stream",
     "text": [
      "Requirement already satisfied: pyzbar in /home/lalit/anaconda3/lib/python3.11/site-packages (0.1.9)\n",
      "\n",
      "\u001b[1m[\u001b[0m\u001b[34;49mnotice\u001b[0m\u001b[1;39;49m]\u001b[0m\u001b[39;49m A new release of pip is available: \u001b[0m\u001b[31;49m20.0.2\u001b[0m\u001b[39;49m -> \u001b[0m\u001b[32;49m24.0\u001b[0m\n",
      "\u001b[1m[\u001b[0m\u001b[34;49mnotice\u001b[0m\u001b[1;39;49m]\u001b[0m\u001b[39;49m To update, run: \u001b[0m\u001b[32;49mpip install --upgrade pip\u001b[0m\n"
     ]
    }
   ],
   "source": [
    "!pip install pyzbar\n"
   ]
  }
 ],
 "metadata": {
  "kernelspec": {
   "display_name": "Python 3 (ipykernel)",
   "language": "python",
   "name": "python3"
  },
  "language_info": {
   "codemirror_mode": {
    "name": "ipython",
    "version": 3
   },
   "file_extension": ".py",
   "mimetype": "text/x-python",
   "name": "python",
   "nbconvert_exporter": "python",
   "pygments_lexer": "ipython3",
   "version": "3.11.5"
  }
 },
 "nbformat": 4,
 "nbformat_minor": 5
}
